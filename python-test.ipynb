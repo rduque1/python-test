{
 "cells": [
  {
   "cell_type": "code",
   "execution_count": null,
   "metadata": {},
   "outputs": [],
   "source": [
    "from datetime import datetime\n",
    "import numpy as np\n",
    "import matplotlib.pyplot as plt\n",
    "import pandas as pd"
   ]
  },
  {
   "cell_type": "code",
   "execution_count": null,
   "metadata": {},
   "outputs": [],
   "source": [
    "## 1\n",
    "dateparse = lambda x: datetime.strptime(x, '%d/%m/%Y %H:%M:%S.%f')\n",
    "df = pd.read_csv('2019-5-8 2019-5-9_pivot.csv', sep = ';', parse_dates=['timestamp'], date_parser=dateparse, index_col='timestamp')\n",
    "\n",
    "cols = list(df)\n",
    "# move the column to head of list using index, pop and insert\n",
    "cols.insert(0, cols.pop(cols.index('SM1281_Status_module1_Channel_1_aRMS')))\n",
    "df = df.loc[:, cols]\n"
   ]
  },
  {
   "cell_type": "code",
   "execution_count": null,
   "metadata": {},
   "outputs": [],
   "source": [
    "## 2\n",
    "print('number of rows is %s' % len(df.index))\n",
    "print('number of columns is %s' % len(cols))\n",
    "print('start datetime is %s' % df.index[0])\n",
    "print('end datetime is %s' % df.index[len(df.index) - 1])\n",
    "df.info()\n",
    "df.shape\n",
    "print(df.isnull().sum()) # print per coll the nb of values NaN or None\n"
   ]
  },
  {
   "cell_type": "code",
   "execution_count": null,
   "metadata": {},
   "outputs": [],
   "source": [
    "## 2.c\n",
    "f = ~df.isin([np.nan, 'NA', 0]).all()\n",
    "# print(f)\n",
    "df = df.loc[:,f]\n",
    "cols = list(df)\n",
    "print('number of columns is %s' % len(cols))\n"
   ]
  },
  {
   "cell_type": "code",
   "execution_count": null,
   "metadata": {
    "scrolled": false
   },
   "outputs": [],
   "source": [
    "## 2.d\n",
    "for i in df.columns:\n",
    "    if df[i].dtype == object:\n",
    "        continue\n",
    "    plt.figure(figsize=(16,8))\n",
    "    plt.plot(df[i])\n",
    "    plt.title(i)"
   ]
  },
  {
   "cell_type": "code",
   "execution_count": null,
   "metadata": {},
   "outputs": [],
   "source": [
    "## 2.e\n",
    "def get_highly_corr_columns (df):\n",
    "    corr_mat = df.corr(method='pearson')\n",
    "    upper_corr_mat = corr_mat.where(\n",
    "        np.triu(np.ones(corr_mat.shape), k=1).astype(bool))\n",
    "  \n",
    "    # Convert to 1-D series and drop Null values\n",
    "    unique_corr_pairs = upper_corr_mat.unstack().dropna()\n",
    "\n",
    "    # Sort correlation pairs\n",
    "    sorted_mat = unique_corr_pairs.sort_values()\n",
    "    return sorted_mat.tail(40)\n",
    "\n",
    "get_highly_corr_columns(df)\n"
   ]
  },
  {
   "cell_type": "code",
   "execution_count": null,
   "metadata": {},
   "outputs": [],
   "source": [
    "## 3\n",
    "def fill_missing_values (df):\n",
    "    for i in df.columns:\n",
    "        if df[i].dtype == object:\n",
    "            continue\n",
    "        df[i].interpolate(inplace=True)\n",
    "        df[i].fillna(inplace=True, method='backfill')\n",
    "        df[i].fillna(df[i].mean(), inplace=True)\n",
    "fill_missing_values(df)\n",
    "df"
   ]
  },
  {
   "cell_type": "code",
   "execution_count": null,
   "metadata": {},
   "outputs": [],
   "source": [
    "## 4\n",
    "\"\"\"\n",
    "a: Define train data and test data. Further clean the data, only keep data of when the machine is running.\n",
    "b: PCA and perform anomaly detection on that data. PCA because we can reduce the number of dimensions that way.\n",
    "c: The performance will be tested with labeled data of failures and non failures. See how many postive and false-positive there are.\n",
    "Also check the time to compute and the failure prediction time.\n",
    "d: If would focus on vibrations, speeds, torque and temperatures. For those I would try to make some baseline for when the machine runs normally.\n",
    "With those baselines for normal activity I would try to detect anomalies when for a sustained amount of time the values are over the thershold.\n",
    "\"\"\""
   ]
  }
 ],
 "metadata": {
  "kernelspec": {
   "display_name": "Python 3",
   "language": "python",
   "name": "python3"
  },
  "language_info": {
   "codemirror_mode": {
    "name": "ipython",
    "version": 3
   },
   "file_extension": ".py",
   "mimetype": "text/x-python",
   "name": "python",
   "nbconvert_exporter": "python",
   "pygments_lexer": "ipython3",
   "version": "3.9.6"
  }
 },
 "nbformat": 4,
 "nbformat_minor": 4
}
